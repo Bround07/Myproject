{
 "cells": [
  {
   "cell_type": "markdown",
   "id": "6c41f34c-2985-4c15-96c6-256bec8d5faa",
   "metadata": {},
   "source": [
    "# PROGRAMA DE PRUEBA\n"
   ]
  },
  {
   "cell_type": "markdown",
   "id": "07eea149-f3f4-476c-a7be-ad071888239f",
   "metadata": {},
   "source": [
    " Este programa imprime hola mundo en distinto idiomas"
   ]
  },
  {
   "cell_type": "markdown",
   "id": "4e667430-21d4-47d5-9ff4-eb0f5e696b46",
   "metadata": {},
   "source": [
    "## escribimos en español"
   ]
  },
  {
   "cell_type": "code",
   "execution_count": 1,
   "id": "d5384d6b-1c4a-4796-aa13-c13733450d18",
   "metadata": {},
   "outputs": [
    {
     "name": "stdout",
     "output_type": "stream",
     "text": [
      "hola mundo\n"
     ]
    }
   ],
   "source": [
    "print(\"hola mundo\")"
   ]
  },
  {
   "cell_type": "markdown",
   "id": "86dc779a-655c-416e-a343-54685843e67d",
   "metadata": {},
   "source": [
    "# ESCRIBIENDO EN INGLES"
   ]
  },
  {
   "cell_type": "code",
   "execution_count": 1,
   "id": "d4735d03-4066-4e25-8fba-bb7a0f346677",
   "metadata": {},
   "outputs": [
    {
     "name": "stdout",
     "output_type": "stream",
     "text": [
      "hello world\n"
     ]
    }
   ],
   "source": [
    "print(\"hello world\")"
   ]
  }
 ],
 "metadata": {
  "kernelspec": {
   "display_name": "Python 3 (ipykernel)",
   "language": "python",
   "name": "python3"
  },
  "language_info": {
   "codemirror_mode": {
    "name": "ipython",
    "version": 3
   },
   "file_extension": ".py",
   "mimetype": "text/x-python",
   "name": "python",
   "nbconvert_exporter": "python",
   "pygments_lexer": "ipython3",
   "version": "3.11.5"
  }
 },
 "nbformat": 4,
 "nbformat_minor": 5
}
