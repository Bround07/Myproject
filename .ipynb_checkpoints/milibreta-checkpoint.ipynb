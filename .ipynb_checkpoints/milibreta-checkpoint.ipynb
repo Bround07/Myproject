{
 "cells": [
  {
   "cell_type": "code",
   "execution_count": null,
   "id": "9bf8a9ab-9550-4c33-bed1-e188335b396f",
   "metadata": {},
   "outputs": [],
   "source": []
  }
 ],
 "metadata": {
  "kernelspec": {
   "display_name": "Python 3 (ipykernel)",
   "language": "python",
   "name": "python3"
  },
  "language_info": {
   "codemirror_mode": {
    "name": "ipython",
    "version": 3
   },
   "file_extension": ".py",
   "mimetype": "text/x-python",
   "name": "python",
   "nbconvert_exporter": "python",
   "pygments_lexer": "ipython3",
   "version": "3.11.4"
  }
 },
 "nbformat": 4,
 "nbformat_minor": 5
}
