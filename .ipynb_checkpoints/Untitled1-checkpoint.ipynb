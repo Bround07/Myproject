{
 "cells": [
  {
   "cell_type": "code",
   "execution_count": 11,
   "id": "42e10b0b-16f1-4da9-bc2c-f710c834801b",
   "metadata": {},
   "outputs": [],
   "source": [
    "import pandas as pd\n",
    "import numpy as np\n",
    "import cv2\n",
    "import matplotlib.pyplot as plt\n",
    "\n",
    "from glob import glob\n",
    "\n",
    "import IPython.display as ipd\n",
    "from tqdm import tqdm\n",
    "\n",
    "import subprocess\n",
    "\n",
    "plt.style.use('ggplot')"
   ]
  },
  {
   "cell_type": "code",
   "execution_count": null,
   "id": "bf6cd112-90f1-4627-88c5-b5303bc85252",
   "metadata": {},
   "outputs": [],
   "source": [
    "ipd.Video('sky.mp4', width=700)"
   ]
  },
  {
   "cell_type": "code",
   "execution_count": null,
   "id": "7aaeb043-ab01-4217-94ec-7738cc7d4a2d",
   "metadata": {},
   "outputs": [],
   "source": [
    "# Load in video capture\n",
    "cap = cv2.VideoCapture('sky.mp4')"
   ]
  },
  {
   "cell_type": "code",
   "execution_count": null,
   "id": "0d79edd6-2a6e-45f1-816b-61921bbd72ba",
   "metadata": {},
   "outputs": [],
   "source": [
    "# Total number of frames in video\n",
    "cap.get(cv2.cv2.CAP_PROP_FRAME_COUNT)"
   ]
  },
  {
   "cell_type": "code",
   "execution_count": null,
   "id": "a87a166a-1209-4e88-98b5-377fa42a6f7c",
   "metadata": {},
   "outputs": [],
   "source": [
    "# Video height and width\n",
    "height = cap.get(cv2.cv2.CAP_PROP_FRAME_HEIGHT)\n",
    "width = cap.get(cv2.cv2.CAP_PROP_FRAME_WIDTH)\n",
    "print(f'Height {height}, Width {width}')"
   ]
  },
  {
   "cell_type": "code",
   "execution_count": null,
   "id": "c3ffd3e6-f0ee-4076-8341-4601b063100e",
   "metadata": {},
   "outputs": [],
   "source": [
    "# Get frames per second\n",
    "fps = cap.get(cv2.cv2.CAP_PROP_FPS)\n",
    "print(f'FPS : {fps:0.2f}')"
   ]
  },
  {
   "cell_type": "code",
   "execution_count": null,
   "id": "7fb53ed8-9c69-4efa-bc22-49c2392ed5a2",
   "metadata": {},
   "outputs": [],
   "source": [
    "cap.release()"
   ]
  },
  {
   "cell_type": "code",
   "execution_count": null,
   "id": "9c641c04-0dd1-4067-9e7a-019e05f6a99e",
   "metadata": {},
   "outputs": [],
   "source": [
    "cap = cv2.VideoCapture('sky.mp4')\n",
    "ret, img = cap.read()\n",
    "print(f'Returned {ret} and img of shape {img.shape}')"
   ]
  },
  {
   "cell_type": "code",
   "execution_count": null,
   "id": "25a181b0-3551-4d40-818e-88db025984c8",
   "metadata": {},
   "outputs": [],
   "source": [
    "## Helper function for plotting opencv images in notebook\n",
    "def display_cv2_img(img, figsize=(10, 10)):\n",
    "    img2 = cv2.cvtColor(img, cv2.COLOR_BGR2RGB)\n",
    "    fig, ax = plt.subplots(figsize=figsize)\n",
    "    ax.imshow(img2)\n",
    "    ax.axis(\"off\")\n",
    "    display_cv2_img(img)"
   ]
  },
  {
   "cell_type": "code",
   "execution_count": null,
   "id": "da126abe-ad1c-4a1a-a439-e80f14d23d0e",
   "metadata": {},
   "outputs": [],
   "source": [
    "cap.release()"
   ]
  },
  {
   "cell_type": "code",
   "execution_count": null,
   "id": "2f5459ed-1328-4824-94e4-1fdee81a4c11",
   "metadata": {},
   "outputs": [],
   "source": [
    "fig, axs = plt.subplots(5, 5, figsize=(30, 20))\n",
    "axs = axs.flatten()\n",
    "\n",
    "cap = cv2.VideoCapture(\"sky.mp4\")\n",
    "n_frames = int(cap.get(cv2.cv2.CAP_PROP_FRAME_COUNT))\n",
    "\n",
    "img_idx = 0\n",
    "for frame in range(n_frames):\n",
    "    ret, img = cap.read()\n",
    "    if ret == False:\n",
    "        break\n",
    "    if frame % 100 == 0:\n",
    "        axs[img_idx].imshow(cv2.cvtColor(img, cv2.COLOR_BGR2RGB))\n",
    "        axs[img_idx].set_title(f'Frame: {frame}')\n",
    "        axs[img_idx].axis('off')\n",
    "        img_idx += 1\n",
    "\n",
    "plt.tight_layout()\n",
    "plt.show()\n",
    "cap.release()"
   ]
  },
  {
   "cell_type": "code",
   "execution_count": null,
   "id": "ba443f9d-a092-4355-851b-8780c921754a",
   "metadata": {},
   "outputs": [],
   "source": [
    "labels = pd.read_csv('../input/driving-video-with-object-tracking/mot_labels.csv',\n",
    "                     low_memory=False)\n",
    "video_labels = (\n",
    "    labels.query('videoName == \"026c7465-309f6d33\"').reset_index(drop=True).copy()\n",
    ")\n",
    "video_labels[\"video_frame\"] = (video_labels[\"frameIndex\"] * 11.9).round().astype(\"int\")"
   ]
  },
  {
   "cell_type": "code",
   "execution_count": null,
   "id": "2d80694d-c86c-4457-8617-63f7605476b9",
   "metadata": {},
   "outputs": [],
   "source": [
    "video_labels[\"category\"].value_counts()"
   ]
  },
  {
   "cell_type": "code",
   "execution_count": null,
   "id": "15790280-adb8-435f-ab61-66f09586d22c",
   "metadata": {},
   "outputs": [],
   "source": [
    "# Pull frame 1035\n",
    "\n",
    "cap = cv2.VideoCapture(\"sky.mp4\")\n",
    "n_frames = int(cap.get(cv2.cv2.CAP_PROP_FRAME_COUNT))\n",
    "\n",
    "img_idx = 0\n",
    "for frame in range(n_frames):\n",
    "    ret, img = cap.read()\n",
    "    if ret == False:\n",
    "        break\n",
    "    if frame == 1035:\n",
    "        break\n",
    "cap.release()"
   ]
  },
  {
   "cell_type": "code",
   "execution_count": null,
   "id": "612846ac-a12f-47b9-868a-677cb63c9d6f",
   "metadata": {},
   "outputs": [],
   "source": [
    "display_cv2_img(img)"
   ]
  },
  {
   "cell_type": "code",
   "execution_count": null,
   "id": "dd268ff5-11c8-4fc4-8c08-9201387fc4d6",
   "metadata": {},
   "outputs": [],
   "source": [
    "img_example = img.copy()\n",
    "frame_labels = video_labels.query('video_frame == 1035')\n",
    "for i, d in frame_labels.iterrows():\n",
    "    pt1 = int(d['box2d.x1']), int(d['box2d.y1'])\n",
    "    pt2 = int(d['box2d.x2']), int(d['box2d.y2'])\n",
    "    cv2.rectangle(img_example, pt1, pt2, (0, 0, 255), 3)\n",
    "\n",
    "display_cv2_img(img_example)"
   ]
  },
  {
   "cell_type": "code",
   "execution_count": null,
   "id": "94cfd37e-d50f-493a-b3d6-cc4f6ed9bc01",
   "metadata": {},
   "outputs": [],
   "source": [
    "color_map = {\n",
    "    \"car\": (0, 0, 255),\n",
    "    \"truck\": (0, 0, 100),\n",
    "    \"pedestrian\": (255, 0, 0),\n",
    "    \"other vehicle\": (0, 0, 150),\n",
    "    \"rider\": (200, 0, 0),\n",
    "    \"bicycle\": (0, 255, 0),\n",
    "    \"other person\": (200, 0, 0),\n",
    "    \"trailer\": (0, 150, 150),\n",
    "    \"motorcycle\": (0, 150, 0),\n",
    "    \"bus\": (0, 0, 100),\n",
    "}\n",
    "\n",
    "img_example = img.copy()\n",
    "frame_labels = video_labels.query('video_frame == 1035')\n",
    "for i, d in frame_labels.iterrows():\n",
    "    pt1 = int(d['box2d.x1']), int(d['box2d.y1'])\n",
    "    pt2 = int(d['box2d.x2']), int(d['box2d.y2'])\n",
    "    color = color_map[d['category']]\n",
    "    cv2.rectangle(img_example, pt1, pt2, color, 3)\n",
    "\n",
    "display_cv2_img(img_example)"
   ]
  },
  {
   "cell_type": "code",
   "execution_count": null,
   "id": "84dd3fc0-2d3e-4f15-a806-12ce3ca7e72c",
   "metadata": {},
   "outputs": [],
   "source": [
    "frame_labels = video_labels.query(\"video_frame == @frame\")\n",
    "font = cv2.FONT_HERSHEY_TRIPLEX\n",
    "img_example = img.copy()\n",
    "for i, d in frame_labels.iterrows():\n",
    "    pt1 = int(d[\"box2d.x1\"]), int(d[\"box2d.y1\"])\n",
    "    pt2 = int(d[\"box2d.x2\"]), int(d[\"box2d.y2\"])\n",
    "    color = color_map[d[\"category\"]]\n",
    "    img_example = cv2.rectangle(img_example, pt1, pt2, color, 3)\n",
    "    pt_text = int(d[\"box2d.x1\"]) + 5, int(d[\"box2d.y1\"] + 10)\n",
    "    img_example = cv2.putText(img_example, d[\"category\"], pt_text, font, 0.5, color)\n",
    "display_cv2_img(img_example)\n",
    "cap.release()"
   ]
  },
  {
   "cell_type": "code",
   "execution_count": null,
   "id": "3c58267c-b21f-4a90-8629-3c35ed7ad9e1",
   "metadata": {},
   "outputs": [],
   "source": [
    "!rm -r out_test.mp4"
   ]
  },
  {
   "cell_type": "code",
   "execution_count": null,
   "id": "c2274e37-d029-4f8e-87d5-ce0f9696b78d",
   "metadata": {},
   "outputs": [],
   "source": [
    "VIDEO_CODEC = \"mp4v\"\n",
    "fps = 59.94\n",
    "width = 1280\n",
    "height = 720\n",
    "out = cv2.VideoWriter(\"out_test.mp4\",\n",
    "                cv2.VideoWriter_fourcc(*VIDEO_CODEC),\n",
    "                fps,\n",
    "                (width, height))\n",
    "\n",
    "cap = cv2.VideoCapture(\"026c7465-309f6d33.mp4\")\n",
    "n_frames = int(cap.get(cv2.cv2.CAP_PROP_FRAME_COUNT))\n",
    "\n",
    "for frame in tqdm(range(n_frames), total=n_frames):\n",
    "    ret, img = cap.read()\n",
    "    if ret == False:\n",
    "        break\n",
    "    img = add_annotations(img, frame, video_labels)\n",
    "    out.write(img)\n",
    "out.release()\n",
    "cap.release()"
   ]
  },
  {
   "cell_type": "code",
   "execution_count": null,
   "id": "996f314e-8c6e-4586-bfa5-c7a80b0679f7",
   "metadata": {},
   "outputs": [],
   "source": [
    "!ls -GFlash -color"
   ]
  },
  {
   "cell_type": "code",
   "execution_count": null,
   "id": "38bd1601-3acb-4417-8f83-e70a860508b9",
   "metadata": {},
   "outputs": [],
   "source": [
    "tmp_output_path = \"out_test.mp4\"\n",
    "output_path = \"out_test_compressed.mp4\"\n",
    "subprocess.run(\n",
    "    [\n",
    "        \"ffmpeg\",\n",
    "        \"-i\",\n",
    "        tmp_output_path,\n",
    "        \"-crf\",\n",
    "        \"18\",\n",
    "        \"-preset\",\n",
    "        \"veryfast\",\n",
    "        \"-vcodec\",\n",
    "        \"libx264\",\n",
    "        output_path,\n",
    "        '-loglevel',\n",
    "        'quiet'\n",
    "    ]\n",
    ")"
   ]
  },
  {
   "cell_type": "code",
   "execution_count": null,
   "id": "65288111-abc8-4500-b0fc-53a4829e9811",
   "metadata": {},
   "outputs": [],
   "source": [
    "ipd.Video('out_test_compressed.mp4', width=600)"
   ]
  },
  {
   "cell_type": "code",
   "execution_count": null,
   "id": "8f4d12c9-d9ca-406d-a5c7-02b0f961dcaa",
   "metadata": {},
   "outputs": [],
   "source": []
  }
 ],
 "metadata": {
  "kernelspec": {
   "display_name": "Python 3 (ipykernel)",
   "language": "python",
   "name": "python3"
  },
  "language_info": {
   "codemirror_mode": {
    "name": "ipython",
    "version": 3
   },
   "file_extension": ".py",
   "mimetype": "text/x-python",
   "name": "python",
   "nbconvert_exporter": "python",
   "pygments_lexer": "ipython3",
   "version": "3.11.4"
  }
 },
 "nbformat": 4,
 "nbformat_minor": 5
}
